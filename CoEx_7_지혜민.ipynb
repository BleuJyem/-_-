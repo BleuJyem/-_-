{
 "cells": [
  {
   "attachments": {},
   "cell_type": "markdown",
   "metadata": {},
   "source": [
    "## Economy\n",
    "\n",
    "There is a representative consumer/worker and a representative firm in an economy. \n",
    "\n",
    "- The consumer \n",
    "  - is endowed with one unit of time that can be used on either working to make money for consumption ($c$) or enjoying as leisure ($l$). \n",
    "  - owns the firm, hence she receives the firm's profits in the form of dividend. \n",
    "  - utility function is given by $ U(c, l) = c^{1/3} l^{2/3}$. \n",
    "- The firm \n",
    "  - produces output using a production function: $Y=A\\sqrt{N}$ where $Y$ and $N$ denote output and labor input respectively. \n",
    "  - sells output in the market at the unit price, i.e., $P=1$. \n",
    "- All markets are perfectly competitive so that the consumer and the firm acts as if they are price takers. The wage is determined to clear the labor market.\n",
    "\n",
    "- Given the market wage $w$, the consumer's problem can be written as: \n",
    "  $$ \\max_{c, l} U(c,l) = c^{1/3} l^{2/3},  \\text{ s.t. } c = w(1-l) + \\pi $$\n",
    "\n",
    "- Given the market wage $w$, the firm's problem can be written as: \n",
    "  $$ \\max_{N} \\pi = A\\sqrt{N} - wN $$\n",
    "\n",
    "Below we will solve for the general equilibrium of the economy. \n",
    "- As you may see from the structure of the economy above, the only parameter that characterize the economy is the TFP ($A$) in the production function. \n",
    "- The key variable that you have to solve for the general equilibrium is the wage $w^*$ that clears the labor market. \n",
    "- Once we solve for $w^*$, all other variables can be solved using the value of $w^*$. Keep these in mind!"
   ]
  },
  {
   "attachments": {},
   "cell_type": "markdown",
   "metadata": {},
   "source": [
    "## Q1. Consumer's utility maximization problem\n",
    "\n",
    "- Assuming the interior solutions, write down the optimal consumption ($c^*$) and leisure ($l^*$) as functions of $w$ and $\\pi$ from the first order conditions for the consumer's utility maximization problem.\n",
    "- Write down the labor supply ($N^s$) as a function of $w$ and $\\pi$.\n",
    "- For the above two questions, write down your answers on a piece of paper, take a photo of it with your cellphone and then put the image file here. You should also attach the original image file when you submit your homework on LearUs."
   ]
  },
  {
   "attachments": {},
   "cell_type": "markdown",
   "metadata": {},
   "source": [
    "Include your image file here.\n",
    "<img src=\"7-1문풀사진1.jpg\">\n"
   ]
  },
  {
   "attachments": {},
   "cell_type": "markdown",
   "metadata": {},
   "source": [
    "## Q2. Firm's profit maxmization problem\n",
    "\n",
    "- Write down the optimal labor demand ($N^d$) as a function of $w$.\n",
    "- Write down the maximized profits ($\\pi$) as a function of $w$.\n",
    "- For the above two questions, write down your answers on a piece of paper, take a photo of it with your cellphone and then put the image file here. You should also attach the original image file when you submit your homework on LearUs."
   ]
  },
  {
   "attachments": {},
   "cell_type": "markdown",
   "metadata": {},
   "source": [
    "Include your image file here.\n",
    "<img src=\"7-2문풀사진.jpg\">\n"
   ]
  },
  {
   "attachments": {},
   "cell_type": "markdown",
   "metadata": {},
   "source": [
    "## Q3. Define the class for the economy\n",
    "\n",
    "Now you are ready to define the class for the above economy. Name the class `GeneralEquilibrium`. Write the Python codes for the class `GeneralEquilibrium`, which should contain the following functions.\n",
    "\n",
    "- class constructor\n",
    "- optimal_consumption: you solved in Q1.\n",
    "- optimal_leisure: you solved in Q1.\n",
    "- labor_supply: you solved in Q1.\n",
    "- labor_demand: you solved in Q2.\n",
    "- profit: you solved in Q2.\n",
    "- market_clear: the function that states the labor market clearing condition. Remember that you want to find the equilibrium market wage when this market cleaaring condition holds."
   ]
  },
  {
   "attachments": {},
   "cell_type": "markdown",
   "metadata": {},
   "source": [
    "You will need the following imports."
   ]
  },
  {
   "cell_type": "code",
   "execution_count": 53,
   "metadata": {},
   "outputs": [],
   "source": [
    "import numpy as np\n",
    "import matplotlib.pyplot as plt\n",
    "from scipy.optimize import root_scalar\n",
    "\n",
    "%matplotlib inline"
   ]
  },
  {
   "cell_type": "code",
   "execution_count": 2,
   "metadata": {},
   "outputs": [],
   "source": [
    "# your code here\n",
    "class GeneralEquilibrium:\n",
    "\n",
    "    def __init__(self,A):\n",
    "        self.A=A\n",
    "        self.c = None\n",
    "        self.l = None\n",
    "        self.N_s = None\n",
    "        self.N_d = None\n",
    "        self.pi = None\n",
    "        \n",
    "    def opt_consumption(self,w):\n",
    "        A=self.A\n",
    "        self.c=A**2/(12*w)+w/3\n",
    "\n",
    "    def opt_leisure(self,w):\n",
    "        A=self.A\n",
    "        self.l=A**2/(6*w**2)+2/3\n",
    "        \n",
    "    def labor_supply(self,w):\n",
    "        A=self.A\n",
    "        self.N_s=1/3-A**2/(6*w**2)\n",
    "               \n",
    "    def labor_demand(self,w):\n",
    "        A=self.A\n",
    "        self.N_d=A**2/(4*w**2)\n",
    "        \n",
    "    def profit(self,w):\n",
    "        A = self.A\n",
    "        self.pi=A**2/(4*w)\n",
    "        \n",
    "    def market_clear(self):\n",
    "        A=self.A\n",
    "        return lambda w:1/3-(A**2/(6*w**2))-(A**2/(4*w**2))"
   ]
  },
  {
   "attachments": {},
   "cell_type": "markdown",
   "metadata": {},
   "source": [
    "## Q4. Find the general equilibrium\n",
    "\n",
    "Write the Python codes for the following.\n",
    "\n",
    "- Set $A=4$ and create an instance of the class that you difined above.\n",
    "- Compute the equilibrium wage ($w^*$) using the `brentq` method that you learned in the lecture for `Scipy`.\n",
    "- Using the value of $w^*$, compute the following variables in the general equilibrium.\n",
    "  - labor input ($N^*$)\n",
    "  - profit ($\\pi^*$)\n",
    "  - consumption ($c^*$)\n",
    "  - leisure ($l^*$)\n",
    "  - output ($Y^*$)\n"
   ]
  },
  {
   "cell_type": "code",
   "execution_count": 3,
   "metadata": {},
   "outputs": [],
   "source": [
    "from scipy.optimize import brentq\n"
   ]
  },
  {
   "cell_type": "code",
   "execution_count": 4,
   "metadata": {},
   "outputs": [],
   "source": [
    "a=GeneralEquilibrium(4)\n",
    "w_star = brentq(a.market_clear(), 0.1, 10)\n"
   ]
  },
  {
   "cell_type": "code",
   "execution_count": 5,
   "metadata": {},
   "outputs": [],
   "source": [
    "a.opt_consumption(w_star)\n",
    "a.opt_leisure(w_star)\n",
    "a.labor_supply(w_star)\n",
    "a.labor_demand(w_star)\n",
    "a.profit(w_star)"
   ]
  },
  {
   "cell_type": "code",
   "execution_count": 6,
   "metadata": {},
   "outputs": [
    {
     "name": "stdout",
     "output_type": "stream",
     "text": [
      "Equilibrium wage (w*):  4.47213595499958\n",
      "Labor input (N*):  0.2\n",
      "Profit (pi*):  0.8944271909999159\n",
      "Consumption (c*):  1.7888543819998317\n",
      "Leisure (l*):  0.7999999999999999\n",
      "Output (Y*):  1.7888543819998317\n"
     ]
    }
   ],
   "source": [
    "print(\"Equilibrium wage (w*): \", w_star)\n",
    "print(\"Labor input (N*): \", a.N_s)\n",
    "print(\"Profit (pi*): \", a.pi)\n",
    "print(\"Consumption (c*): \", a.c)\n",
    "print(\"Leisure (l*): \", a.l)\n",
    "print(\"Output (Y*): \", a.A * a.N_s**(1/2))"
   ]
  },
  {
   "cell_type": "markdown",
   "metadata": {},
   "source": [
    "## Q5. Analytic solution for the market clearing wage\n",
    "\n",
    "- Solve for the market clearing wage ($w^*$) by equating the labor supply and labor demand functions that you derived in Q1 and Q2. \n",
    "- Write down your answer on a piece of paper, take a photo of it with your cellphone and then put the image file here. You should also attach the original image file when you submit your homework on LearUs.\n",
    "- Compare the numerically solved market clearing wage from Q4 and the analytic solution just above. "
   ]
  },
  {
   "attachments": {},
   "cell_type": "markdown",
   "metadata": {},
   "source": [
    "Include your image file here.\n",
    "#둘이 사실상 같은 결과가 나옴\n",
    "\n",
    "<img src=\"7-5문풀사진.jpg\">\n",
    "\n"
   ]
  },
  {
   "attachments": {},
   "cell_type": "markdown",
   "metadata": {},
   "source": [
    "## Q6. Comparative statics\n",
    "\n",
    "Compute the following variables in the general equilibrium as the TFP varies over the range $[2,10]$ and plot the results.\n",
    "- market wage\n",
    "- labor input\n",
    "- profit\n",
    "- consumption"
   ]
  },
  {
   "cell_type": "code",
   "execution_count": 10,
   "metadata": {},
   "outputs": [
    {
     "data": {
      "image/png": "[encoded data removed]",
      "text/plain": [
       "<Figure size 640x480 with 4 Axes>"
      ]
     },
     "metadata": {},
     "output_type": "display_data"
    }
   ],
   "source": [
    "class GeneralEquilibrium:\n",
    "\n",
    "    def __init__(self,A):\n",
    "        self.A=A\n",
    "        self.c = None\n",
    "        self.l = None\n",
    "        self.N_s = None\n",
    "        self.N_d = None\n",
    "        self.pi = None\n",
    "        \n",
    "    def opt_consumption(self,w):\n",
    "        A=self.A\n",
    "        self.c=A**2/(12*w)+w/3\n",
    "\n",
    "    def opt_leisure(self,w):\n",
    "        A=self.A\n",
    "        self.l=A**2/(6*w**2)+2/3\n",
    "        \n",
    "    def labor_supply(self,w):\n",
    "        A=self.A\n",
    "        self.N_s=1/3-A**2/(6*w**2)\n",
    "               \n",
    "    def labor_demand(self,w):\n",
    "        A=self.A\n",
    "        self.N_d=A**2/(4*w**2)\n",
    "        \n",
    "    def profit(self,w):\n",
    "        A = self.A\n",
    "        self.pi=A**2/(4*w)\n",
    "        \n",
    "    def market_clear(self):\n",
    "        A=self.A\n",
    "        w = ((3*A**2)/4)**(1/3)\n",
    "        return w\n",
    "\n",
    "import matplotlib.pyplot as plt\n",
    "\n",
    "A_vals = list(np.linspace(2, 10, 100))\n",
    "\n",
    "wages = []\n",
    "labor_inputs = []\n",
    "profits = []\n",
    "consumptions = []\n",
    "\n",
    "for A in A_vals:\n",
    "    ge = GeneralEquilibrium(A)\n",
    "    wage = ge.market_clear()\n",
    "    ge.labor_supply(wage)\n",
    "    ge.labor_demand(wage)\n",
    "    ge.profit(wage)\n",
    "    ge.opt_consumption(wage)\n",
    "    wages.append(wage)\n",
    "    labor_inputs.append(ge.N_s)\n",
    "    profits.append(ge.pi)\n",
    "    consumptions.append(ge.c)\n",
    "\n",
    "fig, axs = plt.subplots(2, 2)\n",
    "axs[0, 0].plot(A_vals, wages)\n",
    "axs[0, 0].set_title('Market Wage')\n",
    "axs[0, 1].plot(A_vals, labor_inputs)\n",
    "axs[0, 1].set_title('Labor Input')\n",
    "axs[1, 0].plot(A_vals, profits)\n",
    "axs[1, 0].set_title('Profit')\n",
    "axs[1, 1].plot(A_vals, consumptions)\n",
    "axs[1, 1].set_title('Consumption')\n",
    "plt.tight_layout()\n",
    "plt.show()\n"
   ]
  }
 ],
 "metadata": {
  "kernelspec": {
   "display_name": "base",
   "language": "python",
   "name": "python3"
  },
  "language_info": {
   "codemirror_mode": {
    "name": "ipython",
    "version": 3
   },
   "file_extension": ".py",
   "mimetype": "text/x-python",
   "name": "python",
   "nbconvert_exporter": "python",
   "pygments_lexer": "ipython3",
   "version": "3.11.2"
  },
  "orig_nbformat": 4,
  "vscode": {
   "interpreter": {
    "hash": "39af2ca0895277c44512c921bb7f88f8dc25be0442cca964837d7637ba0b2326"
   }
  }
 },
 "nbformat": 4,
 "nbformat_minor": 2
}
