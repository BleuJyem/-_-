{
 "cells": [
  {
   "attachments": {},
   "cell_type": "markdown",
   "metadata": {},
   "source": [
    "## Q1. Prime Numbers\n",
    "\n",
    "A prime number (or a prime) is a natural number greater than 1 that is not a product of two smaller natural numbers. Below are the examples of prime numbers between 1 and 1,000. \n",
    "\n",
    "2, 3, 5, 7, 11, 13, 17, 19, 23, 29, 31, 37, 41, 43, 47, 53, 59, 61, 67, 71, 73, 79, 83, 89, 97, 101, 103, 107, 109, 113, 127, 131, 137, 139, 149, 151, 157, 163, 167, 173, 179, 181, 191, 193, 197, 199, 211, 223, 227, 229, 233, 239, 241, 251, 257, 263, 269, 271, 277, 281, 283, 293, 307, 311, 313, 317, 331, 337, 347, 349, 353, 359, 367, 373, 379, 383, 389, 397, 401, 409, 419, 421, 431, 433, 439, 443, 449, 457, 461, 463, 467, 479, 487, 491, 499, 503, 509, 521, 523, 541, 547, 557, 563, 569, 571, 577, 587, 593, 599, 601, 607, 613, 617, 619, 631, 641, 643, 647, 653, 659, 661, 673, 677, 683, 691, 701, 709, 719, 727, 733, 739, 743, 751, 757, 761, 769, 773, 787, 797, 809, 811, 821, 823, 827, 829, 839, 853, 857, 859, 863, 877, 881, 883, 887, 907, 911, 919, 929, 937, 941, 947, 953, 967, 971, 977, 983, 991, 997."
   ]
  },
  {
   "attachments": {},
   "cell_type": "markdown",
   "metadata": {},
   "source": [
    "1. Using the definition of prime numbers, write a function to determine whether a number is prime. \n",
    "- function name: `whether_prime`\n",
    "- raise an error if the number is smaller than or equal to 1. \n",
    "- retrun `True` if the number is prime, `False` otherwise. \n",
    "- check with some arbitrary numbers whether your function works as intended."
   ]
  },
  {
   "cell_type": "code",
   "execution_count": 27,
   "metadata": {},
   "outputs": [
    {
     "data": {
      "text/plain": [
       "False"
      ]
     },
     "execution_count": 27,
     "metadata": {},
     "output_type": "execute_result"
    }
   ],
   "source": [
    "def whether_prime(num):\n",
    "    if num<=1: \n",
    "        raise\n",
    "    else:\n",
    "        for i in range(2, num):\n",
    "            if num%i ==0:\n",
    "                return False\n",
    "        return True\n",
    "whether_prime(549)"
   ]
  },
  {
   "attachments": {},
   "cell_type": "markdown",
   "metadata": {},
   "source": [
    "2. Write a function to find all prime numbers betweeen two numbers (x and y). \n",
    "- function name: `find_primes`\n",
    "- check if both numbers (x and y) are greater than 1. Otherwise raise an error. \n",
    "- you may use the function `whether_prime` that you wrote above\n"
   ]
  },
  {
   "cell_type": "code",
   "execution_count": 47,
   "metadata": {},
   "outputs": [],
   "source": [
    "# your code here\n",
    "def find_primes(x,y):\n",
    "    a=[]\n",
    "    if x>1 and y>1:\n",
    "        if x<=y:\n",
    "            for i in range(x+1,y):\n",
    "                if whether_prime(i):\n",
    "                    a.append(i)          \n",
    "                    \n",
    "        else:\n",
    "            for i in range(y+1,x):\n",
    "                if whether_prime(i):\n",
    "                    a.append(i)\n",
    "        return a\n",
    "    else:\n",
    "        raise\n",
    "        \n"
   ]
  },
  {
   "attachments": {},
   "cell_type": "markdown",
   "metadata": {},
   "source": [
    "3. Using the function `find_primes` that you wrote above, do the followings:\n",
    "- find all prime numbers between 1,000 and 1,100.\n",
    "- calculate the sum of all prime numbers between 1,500 and 2,000.\n",
    "- count the number of primes between 2,000 and 3,000.\n",
    "- calculate the difference between the largest and smallest prime numbers between 3,000 and 8,000."
   ]
  },
  {
   "cell_type": "code",
   "execution_count": 48,
   "metadata": {},
   "outputs": [
    {
     "name": "stdout",
     "output_type": "stream",
     "text": [
      "[1009, 1013, 1019, 1021, 1031, 1033, 1039, 1049, 1051, 1061, 1063, 1069, 1087, 1091, 1093, 1097]\n"
     ]
    }
   ],
   "source": [
    "print(find_primes(1000,1100))"
   ]
  },
  {
   "cell_type": "code",
   "execution_count": 49,
   "metadata": {},
   "outputs": [
    {
     "data": {
      "text/plain": [
       "112010"
      ]
     },
     "execution_count": 49,
     "metadata": {},
     "output_type": "execute_result"
    }
   ],
   "source": [
    "a=find_primes(1500,2000)\n",
    "sum(a)"
   ]
  },
  {
   "cell_type": "code",
   "execution_count": 50,
   "metadata": {},
   "outputs": [
    {
     "data": {
      "text/plain": [
       "127"
      ]
     },
     "execution_count": 50,
     "metadata": {},
     "output_type": "execute_result"
    }
   ],
   "source": [
    "len(find_primes(2000,3000))\n"
   ]
  },
  {
   "cell_type": "code",
   "execution_count": 51,
   "metadata": {},
   "outputs": [
    {
     "data": {
      "text/plain": [
       "4992"
      ]
     },
     "execution_count": 51,
     "metadata": {},
     "output_type": "execute_result"
    }
   ],
   "source": [
    "b=find_primes(3000,8000)\n",
    "max(b)-min(b)"
   ]
  },
  {
   "attachments": {},
   "cell_type": "markdown",
   "metadata": {},
   "source": [
    "4. Uisng the function `whether_prime` that you wrote above, write another function to find the x_th prime number after y.\n",
    "- function name: `x_prime_y`\n",
    "- takes two input arguments (x, y).\n",
    "- returns the prime number that appears x_th after y."
   ]
  },
  {
   "cell_type": "code",
   "execution_count": 56,
   "metadata": {},
   "outputs": [],
   "source": [
    "def x_prime_y(x,y):\n",
    "    a=1\n",
    "    if x==0:\n",
    "        if whether_prime(y):\n",
    "            return y\n",
    "\n",
    "    else:\n",
    "        while x!=0:\n",
    "            if whether_prime(y+a):\n",
    "                x-=1\n",
    "                if x==0:\n",
    "                    return y+a\n",
    "                else:\n",
    "                    a+=1\n",
    "            else:\n",
    "                a+=1\n",
    "\n"
   ]
  },
  {
   "attachments": {},
   "cell_type": "markdown",
   "metadata": {},
   "source": [
    "5. Using the function `x_prime_y` that you wrote above, do the following:\n",
    "- find the 100th prime number after 500.\n",
    "- create a list that contains 20 prime numbers that appear after 200. For this, you'd better use `list comprehension`."
   ]
  },
  {
   "cell_type": "markdown",
   "metadata": {},
   "source": [
    "5. Using the function `x_prime_y` that you wrote above, do the following:\n",
    "- find the 100th prime number after 500.\n",
    "- create a list that contains 20 prime numbers that appear after 200. For this, you'd better use `list comprehension`."
   ]
  },
  {
   "cell_type": "code",
   "execution_count": 53,
   "metadata": {},
   "outputs": [
    {
     "data": {
      "text/plain": [
       "1187"
      ]
     },
     "execution_count": 53,
     "metadata": {},
     "output_type": "execute_result"
    }
   ],
   "source": [
    "x_prime_y(100,500)\n"
   ]
  },
  {
   "cell_type": "code",
   "execution_count": 54,
   "metadata": {},
   "outputs": [
    {
     "data": {
      "text/plain": [
       "[211,\n",
       " 223,\n",
       " 227,\n",
       " 229,\n",
       " 233,\n",
       " 239,\n",
       " 241,\n",
       " 251,\n",
       " 257,\n",
       " 263,\n",
       " 269,\n",
       " 271,\n",
       " 277,\n",
       " 281,\n",
       " 283,\n",
       " 293,\n",
       " 307,\n",
       " 311,\n",
       " 313,\n",
       " 317]"
      ]
     },
     "execution_count": 54,
     "metadata": {},
     "output_type": "execute_result"
    }
   ],
   "source": [
    "list_20_200=[x_prime_y(x,200) for x in range(1,21)]\n",
    "list_20_200"
   ]
  },
  {
   "attachments": {},
   "cell_type": "markdown",
   "metadata": {},
   "source": [
    "## Q2. Euler's Number\n",
    "\n",
    "The Euler's number, $e$, can be calculated as the sum of the infinite series: $$e = \\dfrac{1}{0!} + \\dfrac{1}{1!} + \\dfrac{1}{2!} + \\dfrac{1}{3!} + \\cdots = \\sum_{n=0}^{\\infty } \\dfrac {1}{n!}$$\n"
   ]
  },
  {
   "attachments": {},
   "cell_type": "markdown",
   "metadata": {},
   "source": [
    "1. Write a function to calculate $e$ for a number $n \\ge 2$.\n",
    "- function name: `Euler_Series`\n",
    "- you have to write a function to calculate the `factorial` of a number. "
   ]
  },
  {
   "cell_type": "code",
   "execution_count": 36,
   "metadata": {},
   "outputs": [],
   "source": [
    "\n",
    "def factorial(n):\n",
    "    factorial=1\n",
    "    i=n\n",
    "    while i>=1:\n",
    "        factorial*=i\n",
    "        i-=1\n",
    "    return factorial\n",
    "\n",
    "def Euler_Series(num):\n",
    "    k=0\n",
    "    while num>=0:\n",
    "        k+=1/factorial(num)\n",
    "        num-=1\n",
    "    return k\n",
    "\n",
    "\n",
    "        "
   ]
  },
  {
   "attachments": {},
   "cell_type": "markdown",
   "metadata": {},
   "source": [
    "2. Using the function that you wrote above, compute the Euler's number with $n=10$."
   ]
  },
  {
   "cell_type": "code",
   "execution_count": 37,
   "metadata": {},
   "outputs": [
    {
     "data": {
      "text/plain": [
       "2.7182818011463845"
      ]
     },
     "execution_count": 37,
     "metadata": {},
     "output_type": "execute_result"
    }
   ],
   "source": [
    "Euler_Series(10)"
   ]
  },
  {
   "attachments": {},
   "cell_type": "markdown",
   "metadata": {},
   "source": [
    "3. Write a code to find the number $n^*$ such that `Euler_Series(n*) - Euler_Series(n*-1) < 1e-10`. What is $n^*$? What is the Euler's number with $n^*$?"
   ]
  },
  {
   "cell_type": "code",
   "execution_count": 38,
   "metadata": {},
   "outputs": [
    {
     "name": "stdout",
     "output_type": "stream",
     "text": [
      "14\n"
     ]
    },
    {
     "data": {
      "text/plain": [
       "2.7182818284582297"
      ]
     },
     "execution_count": 38,
     "metadata": {},
     "output_type": "execute_result"
    }
   ],
   "source": [
    "#Euler_Series(n*)-Euler_Series(n*-1) = 1 / factorial(n*)\n",
    "n=1\n",
    "while n>=1:\n",
    "    if 1/factorial(n) <1e-10:\n",
    "        break \n",
    "    else:\n",
    "        n+=1\n",
    "print(n)\n",
    "Euler_Series(n)"
   ]
  },
  {
   "attachments": {},
   "cell_type": "markdown",
   "metadata": {},
   "source": [
    "## Q3. Optimal Choice of Consumption and Leisure\n",
    "\n",
    "Consider a consumer who is endowed with one unit of time. The consumer should work to make money for consumption. Assume that the price of consumption is equal to 1 and the market wage is also equal to 1. The utility function is given $u(c, l) = \\log{c} + \\log{l}$ where $c$ denotes consumption and $l$ leisure. The consumer wants to maximize utility."
   ]
  },
  {
   "attachments": {},
   "cell_type": "markdown",
   "metadata": {},
   "source": [
    "1. You must have learned how to solve this utility maximization problem of the consumer. \n",
    "- Write down the budget constriant for the consumer.\n",
    "- Write down the optimality condition for the choice of consumption and leisure.\n",
    "- Solve for the optimal consumption ($c^*$) and leisure ($l^*$). \n",
    "- You may write down your answers on a piece of paper, take a photo of it with your cellphone and then put the image file here."
   ]
  },
  {
   "attachments": {},
   "cell_type": "markdown",
   "metadata": {},
   "source": [
    "**write here a price of markdown code to inclued an image file.**\n",
    "혹시 몰라 과제제출란에도 업로드했습니다..\n",
    "<img src=\"지혜민답안_최적여가소비점.jpg\">\n",
    "\n"
   ]
  },
  {
   "attachments": {},
   "cell_type": "markdown",
   "metadata": {},
   "source": [
    "2. Write down a function to find `approximately` the optimal combination of consumption and leisure.\n",
    "- function name: `find_opt`\n",
    "- the utility initially increases as leisure up to some point, then decrease after on.\n",
    "- the algorithm to find the optimal consumption and leisure is as follows:\n",
    "  - starting from the lowest possible level of leisure, increase leisure by the small fixed amount.\n",
    "  - compute the correspoding consumption using the budget constraint, then compute the utility level.\n",
    "  - find the optimal level of leisure that maximize utility by comparing two contiguous levels of leisure.\n",
    "- Notice that the optimal combination of consumption and leisure depends on the market wage.\n"
   ]
  },
  {
   "cell_type": "code",
   "execution_count": 43,
   "metadata": {},
   "outputs": [],
   "source": [
    "# need math library to use log() and -inf\n",
    "import math\n",
    "\n",
    "# your code here\n",
    "\n",
    "def find_opt(w):\n",
    "    delta=0.000001\n",
    "    L=0.00001\n",
    "    C=w*(1-L)\n",
    "    L_n=L+delta\n",
    "    C_n=w*(1-L_n)\n",
    "    while math.log(C*L)<=math.log(C_n*L_n):\n",
    "        L=L_n\n",
    "        L_n+=delta\n",
    "        C=w*(1-L)\n",
    "        C_n=w*(1-L_n)\n",
    "    return (C, L)\n",
    "\n"
   ]
  },
  {
   "attachments": {},
   "cell_type": "markdown",
   "metadata": {},
   "source": [
    "3. Find the optimal combination of consumption and leisure whem the market wage is equal to one."
   ]
  },
  {
   "cell_type": "code",
   "execution_count": 44,
   "metadata": {},
   "outputs": [
    {
     "data": {
      "text/plain": [
       "(0.5000000000064595, 0.49999999999354044)"
      ]
     },
     "execution_count": 44,
     "metadata": {},
     "output_type": "execute_result"
    }
   ],
   "source": [
    "# your code here\n",
    "find_opt(1)\n"
   ]
  },
  {
   "attachments": {},
   "cell_type": "markdown",
   "metadata": {},
   "source": [
    "4. Create a list that contains tuples of the optimal consumption and leisure as the market wage grows from 1 to 2 by 0.05. Use `list comprehension` for this."
   ]
  },
  {
   "cell_type": "code",
   "execution_count": 45,
   "metadata": {},
   "outputs": [],
   "source": [
    "opt_C_L=[ find_opt(w/100) for w in range(100,201,5) ]\n"
   ]
  },
  {
   "cell_type": "code",
   "execution_count": 46,
   "metadata": {},
   "outputs": [
    {
     "data": {
      "text/plain": [
       "[(0.5000000000064595, 0.49999999999354044),\n",
       " (0.5250000000067825, 0.49999999999354044),\n",
       " (0.5500000000071055, 0.49999999999354044),\n",
       " (0.5750000000074283, 0.49999999999354044),\n",
       " (0.6000000000077513, 0.49999999999354044),\n",
       " (0.6250000000080744, 0.49999999999354044),\n",
       " (0.6500000000083974, 0.49999999999354044),\n",
       " (0.6750000000087204, 0.49999999999354044),\n",
       " (0.7000000000090433, 0.49999999999354044),\n",
       " (0.7250000000093663, 0.49999999999354044),\n",
       " (0.7500000000096892, 0.49999999999354044),\n",
       " (0.7750000000100122, 0.49999999999354044),\n",
       " (0.8000000000103352, 0.49999999999354044),\n",
       " (0.8250000000106581, 0.49999999999354044),\n",
       " (0.8500000000109811, 0.49999999999354044),\n",
       " (0.8750000000113041, 0.49999999999354044),\n",
       " (0.9000000000116272, 0.49999999999354044),\n",
       " (0.9250000000119502, 0.49999999999354044),\n",
       " (0.950000000012273, 0.49999999999354044),\n",
       " (0.975000000012596, 0.49999999999354044),\n",
       " (1.000000000012919, 0.49999999999354044)]"
      ]
     },
     "execution_count": 46,
     "metadata": {},
     "output_type": "execute_result"
    }
   ],
   "source": [
    "opt_C_L"
   ]
  },
  {
   "cell_type": "code",
   "execution_count": null,
   "metadata": {},
   "outputs": [],
   "source": []
  }
 ],
 "metadata": {
  "kernelspec": {
   "display_name": "base",
   "language": "python",
   "name": "python3"
  },
  "language_info": {
   "codemirror_mode": {
    "name": "ipython",
    "version": 3
   },
   "file_extension": ".py",
   "mimetype": "text/x-python",
   "name": "python",
   "nbconvert_exporter": "python",
   "pygments_lexer": "ipython3",
   "version": "3.11.2"
  },
  "orig_nbformat": 4
 },
 "nbformat": 4,
 "nbformat_minor": 2
}
