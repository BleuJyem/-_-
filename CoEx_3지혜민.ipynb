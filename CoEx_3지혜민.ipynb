{
 "cells": [
  {
   "attachments": {},
   "cell_type": "markdown",
   "metadata": {},
   "source": [
    "## Q1. Numpy Array Operations"
   ]
  },
  {
   "attachments": {},
   "cell_type": "markdown",
   "metadata": {},
   "source": [
    "\n",
    "1. Create a 1-D numpy (`arr_1d`) array with numbers (2, 3, 5, 7, 11, 13, 17, 19, 23, 29, 31, 37, 41, 43, 47, 53, 59, 61, 67, 71)"
   ]
  },
  {
   "cell_type": "code",
   "execution_count": 5,
   "metadata": {},
   "outputs": [
    {
     "name": "stdout",
     "output_type": "stream",
     "text": [
      "Requirement already satisfied: numpy in c:\\users\\jmine\\appdata\\local\\programs\\python\\python311\\lib\\site-packages (1.24.2)\n",
      "Note: you may need to restart the kernel to use updated packages.\n"
     ]
    },
    {
     "name": "stderr",
     "output_type": "stream",
     "text": [
      "\n",
      "[notice] A new release of pip available: 22.3.1 -> 23.0.1\n",
      "[notice] To update, run: python.exe -m pip install --upgrade pip\n"
     ]
    }
   ],
   "source": [
    "pip install numpy"
   ]
  },
  {
   "cell_type": "code",
   "execution_count": 6,
   "metadata": {},
   "outputs": [
    {
     "data": {
      "text/plain": [
       "array([ 2,  3,  5,  7, 11, 13, 17, 19, 23, 29, 31, 37, 41, 43, 47, 53, 59,\n",
       "       61, 67, 71])"
      ]
     },
     "execution_count": 6,
     "metadata": {},
     "output_type": "execute_result"
    }
   ],
   "source": [
    "import numpy as np\n",
    "\n",
    "# your code here\n",
    "arr_1d=np.array((2, 3, 5, 7, 11, 13, 17, 19, 23, 29, 31, 37, 41, 43, 47, 53, 59, 61, 67, 71))\n",
    "arr_1d"
   ]
  },
  {
   "attachments": {},
   "cell_type": "markdown",
   "metadata": {},
   "source": [
    "2. Compute the sum of squared errors of `arr_1d`.\n",
    "mean"
   ]
  },
  {
   "cell_type": "code",
   "execution_count": 7,
   "metadata": {},
   "outputs": [
    {
     "data": {
      "text/plain": [
       "1524.9024999999997"
      ]
     },
     "execution_count": 7,
     "metadata": {},
     "output_type": "execute_result"
    }
   ],
   "source": [
    "# your code here\n",
    "for i in arr_1d:\n",
    "    SSE=+(i-arr_1d.mean())**2\n",
    "SSE"
   ]
  },
  {
   "attachments": {},
   "cell_type": "markdown",
   "metadata": {},
   "source": [
    "3. show all elements of `arr_1d` that are at odd-indices."
   ]
  },
  {
   "cell_type": "code",
   "execution_count": 8,
   "metadata": {},
   "outputs": [
    {
     "data": {
      "text/plain": [
       "[3, 7, 13, 19, 29, 37, 43, 53, 61, 71]"
      ]
     },
     "execution_count": 8,
     "metadata": {},
     "output_type": "execute_result"
    }
   ],
   "source": [
    "# your code here\n",
    "odd_indices=[arr_1d[i] for i in range(0,len(arr_1d)) if i%2==1]\n",
    "odd_indices"
   ]
  },
  {
   "attachments": {},
   "cell_type": "markdown",
   "metadata": {},
   "source": [
    "4. show all elements of `arr_1d` that are larger than 40."
   ]
  },
  {
   "cell_type": "code",
   "execution_count": 9,
   "metadata": {},
   "outputs": [
    {
     "data": {
      "text/plain": [
       "[41, 43, 47, 53, 59, 61, 67, 71]"
      ]
     },
     "execution_count": 9,
     "metadata": {},
     "output_type": "execute_result"
    }
   ],
   "source": [
    "# your code here\n",
    "larger_than_40=[i for i in arr_1d if i>40]\n",
    "\n",
    "larger_than_40"
   ]
  },
  {
   "attachments": {},
   "cell_type": "markdown",
   "metadata": {},
   "source": [
    "5. show all elements of `arr_1d` at even-indices and smaller than 40."
   ]
  },
  {
   "cell_type": "code",
   "execution_count": 10,
   "metadata": {},
   "outputs": [
    {
     "data": {
      "text/plain": [
       "[2, 5, 11, 17, 23, 31]"
      ]
     },
     "execution_count": 10,
     "metadata": {},
     "output_type": "execute_result"
    }
   ],
   "source": [
    "# your code here\n",
    "a=[arr_1d[i] for i in range(0, len(arr_1d)) if i%2==0 and arr_1d[i]<40]\n",
    "a"
   ]
  },
  {
   "attachments": {},
   "cell_type": "markdown",
   "metadata": {},
   "source": [
    "6. Create a 2-d array of which the first column contains elements of `arr_1d` at even-indices and the second column contains elements of `arr_1d` at even-indices."
   ]
  },
  {
   "cell_type": "code",
   "execution_count": 11,
   "metadata": {},
   "outputs": [
    {
     "data": {
      "text/plain": [
       "array([[ 2,  2],\n",
       "       [ 5,  5],\n",
       "       [11, 11],\n",
       "       [17, 17],\n",
       "       [23, 23],\n",
       "       [31, 31],\n",
       "       [41, 41],\n",
       "       [47, 47],\n",
       "       [59, 59],\n",
       "       [67, 67]])"
      ]
     },
     "execution_count": 11,
     "metadata": {},
     "output_type": "execute_result"
    }
   ],
   "source": [
    "# your code here\n",
    "even_indices=[arr_1d[i] for i in range(0,len(arr_1d)) if i%2==0]\n",
    "even_indices\n",
    "d2 =arr_1d.reshape(10,2)\n",
    "d2[0:,1] =even_indices\n",
    "\n",
    "d2\n"
   ]
  },
  {
   "attachments": {},
   "cell_type": "markdown",
   "metadata": {},
   "source": [
    "7. Using `arr_1d` create a 2-d array of shape (5,4), `arr_2d`."
   ]
  },
  {
   "cell_type": "code",
   "execution_count": 12,
   "metadata": {},
   "outputs": [
    {
     "data": {
      "text/plain": [
       "array([[ 2,  3,  5,  7],\n",
       "       [11, 13, 17, 19],\n",
       "       [23, 29, 31, 37],\n",
       "       [41, 43, 47, 53],\n",
       "       [59, 61, 67, 71]])"
      ]
     },
     "execution_count": 12,
     "metadata": {},
     "output_type": "execute_result"
    }
   ],
   "source": [
    "# your code here\n",
    "arr_1d=np.array((2, 3, 5, 7, 11, 13, 17, 19, 23, 29, 31, 37, 41, 43, 47, 53, 59, 61, 67, 71))\n",
    "arr_2d=arr_1d.reshape(5,4)\n",
    "arr_2d"
   ]
  },
  {
   "attachments": {},
   "cell_type": "markdown",
   "metadata": {},
   "source": [
    "8. Add the array of the first 4 elements of `arr_1d` to each row of `arr_2d`."
   ]
  },
  {
   "cell_type": "code",
   "execution_count": 13,
   "metadata": {},
   "outputs": [
    {
     "data": {
      "text/plain": [
       "array([[ 4,  6, 10, 14],\n",
       "       [13, 16, 22, 26],\n",
       "       [25, 32, 36, 44],\n",
       "       [43, 46, 52, 60],\n",
       "       [61, 64, 72, 78]])"
      ]
     },
     "execution_count": 13,
     "metadata": {},
     "output_type": "execute_result"
    }
   ],
   "source": [
    "# your code here\n",
    "arr_1d=np.array((2, 3, 5, 7, 11, 13, 17, 19, 23, 29, 31, 37, 41, 43, 47, 53, 59, 61, 67, 71))\n",
    "arr_2d=arr_1d.reshape(5,4)\n",
    "a=arr_1d[0:4]\n",
    "arr_2d+a"
   ]
  },
  {
   "attachments": {},
   "cell_type": "markdown",
   "metadata": {},
   "source": [
    "9. Add the array of the last 5 elements of `arr_1d` to each column of `arr_2d`."
   ]
  },
  {
   "cell_type": "code",
   "execution_count": 14,
   "metadata": {},
   "outputs": [
    {
     "data": {
      "text/plain": [
       "array([[ 55,  56,  58,  60],\n",
       "       [ 70,  72,  76,  78],\n",
       "       [ 84,  90,  92,  98],\n",
       "       [108, 110, 114, 120],\n",
       "       [130, 132, 138, 142]])"
      ]
     },
     "execution_count": 14,
     "metadata": {},
     "output_type": "execute_result"
    }
   ],
   "source": [
    "# your code here\n",
    "arr_1d=np.array((2, 3, 5, 7, 11, 13, 17, 19, 23, 29, 31, 37, 41, 43, 47, 53, 59, 61, 67, 71))\n",
    "arr_2d=arr_1d.reshape(5,4)\n",
    "b=arr_1d[-5:]\n",
    "(arr_2d.T+b).T"
   ]
  },
  {
   "attachments": {},
   "cell_type": "markdown",
   "metadata": {},
   "source": [
    "10. Create the new 2-D array of shape (5,5), denoted `arr_2d_new,` by appending the array of the 5 elements starting from the element at the 7_th index to `arr_1d`"
   ]
  },
  {
   "cell_type": "code",
   "execution_count": null,
   "metadata": {},
   "outputs": [
    {
     "data": {
      "text/plain": [
       "array([[ 2,  3,  5,  7, 19],\n",
       "       [11, 13, 17, 19, 23],\n",
       "       [23, 29, 31, 37, 29],\n",
       "       [41, 43, 47, 53, 31],\n",
       "       [59, 61, 67, 71, 37]])"
      ]
     },
     "execution_count": 15,
     "metadata": {},
     "output_type": "execute_result"
    }
   ],
   "source": [
    "# your code here\n",
    "arr_1d=np.array((2, 3, 5, 7, 11, 13, 17, 19, 23, 29, 31, 37, 41, 43, 47, 53, 59, 61, 67, 71))\n",
    "arr_2d=arr_1d.reshape(5,4)\n",
    "arr_2d_new=np.vstack((arr_2d.T,[arr_1d[7:12]])).T\n",
    "arr_2d_new"
   ]
  },
  {
   "attachments": {},
   "cell_type": "markdown",
   "metadata": {},
   "source": [
    "10. Compute the row-wise sum of `arr_2d_new`"
   ]
  },
  {
   "cell_type": "code",
   "execution_count": 16,
   "metadata": {},
   "outputs": [
    {
     "data": {
      "text/plain": [
       "array([136, 149, 167, 187, 139])"
      ]
     },
     "execution_count": 16,
     "metadata": {},
     "output_type": "execute_result"
    }
   ],
   "source": [
    "# your code here\n",
    "arr_2d_new.sum(axis=0)"
   ]
  },
  {
   "attachments": {},
   "cell_type": "markdown",
   "metadata": {},
   "source": [
    "11. Compute the column-wise sum of `arr_2d_new`"
   ]
  },
  {
   "cell_type": "code",
   "execution_count": 17,
   "metadata": {},
   "outputs": [
    {
     "data": {
      "text/plain": [
       "array([ 36,  83, 149, 215, 295])"
      ]
     },
     "execution_count": 17,
     "metadata": {},
     "output_type": "execute_result"
    }
   ],
   "source": [
    "# your code here\n",
    "arr_2d_new.sum(axis=1)"
   ]
  },
  {
   "attachments": {},
   "cell_type": "markdown",
   "metadata": {},
   "source": [
    "## Q2. Approximation of the Sine Functions\n",
    "\n",
    "It is well known that the sine function can be approximated by the infinite order of the Maclaurin series: $$\\sin{x} = x - \\dfrac{x^3}{3!} + \\dfrac{x^5}{5!} - \\dfrac{x^7}{7!} \\cdots = \\sum_{n=0}^{\\infty } \\dfrac {(-1)^n}{(2n+1)!} x^{2n+1}$$\n"
   ]
  },
  {
   "attachments": {},
   "cell_type": "markdown",
   "metadata": {},
   "source": [
    "1. Write a **lambda function** to approximate $\\sin{x}$ with the $N^{th}$ order Maclaurin series.\n"
   ]
  },
  {
   "cell_type": "code",
   "execution_count": 18,
   "metadata": {},
   "outputs": [],
   "source": [
    "import math\n",
    "\n",
    "sin_approx = lambda x,N : sum(x**(2*i+1)*(-1)**i/math.factorial(2*i+1) for i in range(N))\n"
   ]
  },
  {
   "attachments": {},
   "cell_type": "markdown",
   "metadata": {},
   "source": [
    "2. Set $N=5$ and compute $\\sin{x}$ where $x$ is equally spaced array of 50 numbers in the interval $[-2\\pi, 2\\pi]$."
   ]
  },
  {
   "cell_type": "code",
   "execution_count": 19,
   "metadata": {},
   "outputs": [
    {
     "data": {
      "text/plain": [
       "array([ 2.44929360e-16,  2.53654584e-01,  4.90717552e-01,  6.95682551e-01,\n",
       "        8.55142763e-01,  9.58667853e-01,  9.99486216e-01,  9.74927912e-01,\n",
       "        8.86599306e-01,  7.40277997e-01,  5.45534901e-01,  3.15108218e-01,\n",
       "        6.40702200e-02, -1.91158629e-01, -4.33883739e-01, -6.48228395e-01,\n",
       "       -8.20172255e-01, -9.38468422e-01, -9.95379113e-01, -9.87181783e-01,\n",
       "       -9.14412623e-01, -7.81831482e-01, -5.98110530e-01, -3.75267005e-01,\n",
       "       -1.27877162e-01,  1.27877162e-01,  3.75267005e-01,  5.98110530e-01,\n",
       "        7.81831482e-01,  9.14412623e-01,  9.87181783e-01,  9.95379113e-01,\n",
       "        9.38468422e-01,  8.20172255e-01,  6.48228395e-01,  4.33883739e-01,\n",
       "        1.91158629e-01, -6.40702200e-02, -3.15108218e-01, -5.45534901e-01,\n",
       "       -7.40277997e-01, -8.86599306e-01, -9.74927912e-01, -9.99486216e-01,\n",
       "       -9.58667853e-01, -8.55142763e-01, -6.95682551e-01, -4.90717552e-01,\n",
       "       -2.53654584e-01, -2.44929360e-16])"
      ]
     },
     "execution_count": 19,
     "metadata": {},
     "output_type": "execute_result"
    }
   ],
   "source": [
    "# your code here\n",
    "\n",
    "vec1=np.linspace(-2*np.pi, 2*np.pi, 50)\n",
    "\n",
    "np.sin(vec1).flatten()"
   ]
  },
  {
   "attachments": {},
   "cell_type": "markdown",
   "metadata": {},
   "source": [
    "3. Compute the approximation errors for the function that you wrote above by comparing the values from your function and those from the sine function in the Numpy library."
   ]
  },
  {
   "cell_type": "code",
   "execution_count": 20,
   "metadata": {},
   "outputs": [
    {
     "data": {
      "text/plain": [
       "array([-11.89956653,  -7.40645458,  -4.3402248 ,  -2.28369224,\n",
       "        -0.93796264,  -0.09191445,   0.4019134 ,   0.64601469,\n",
       "         0.71207816,   0.65141337,   0.50234616,   0.2952053 ,\n",
       "         0.05544337,  -0.19464027,  -0.43517531,  -0.64866149,\n",
       "        -0.82030063,  -0.93850104,  -0.99538591,  -0.98718287,\n",
       "        -0.91441274,  -0.78183149,  -0.59811053,  -0.375267  ,\n",
       "        -0.12787716,   0.12787716,   0.375267  ,   0.59811053,\n",
       "         0.78183149,   0.91441274,   0.98718287,   0.99538591,\n",
       "         0.93850104,   0.82030063,   0.64866149,   0.43517531,\n",
       "         0.19464027,  -0.05544337,  -0.2952053 ,  -0.50234616,\n",
       "        -0.65141337,  -0.71207816,  -0.64601469,  -0.4019134 ,\n",
       "         0.09191445,   0.93796264,   2.28369224,   4.3402248 ,\n",
       "         7.40645458,  11.89956653])"
      ]
     },
     "execution_count": 20,
     "metadata": {},
     "output_type": "execute_result"
    }
   ],
   "source": [
    "\n",
    "\n",
    "vec1=np.linspace(-2*np.pi, 2*np.pi, 50)\n",
    "\n",
    "sin_approx(vec1,5).flatten()"
   ]
  },
  {
   "cell_type": "code",
   "execution_count": 21,
   "metadata": {},
   "outputs": [
    {
     "data": {
      "text/plain": [
       "array([-1.18995665e+01, -7.66010916e+00, -4.83094235e+00, -2.97937479e+00,\n",
       "       -1.79310540e+00, -1.05058230e+00, -5.97572818e-01, -3.28913222e-01,\n",
       "       -1.74521149e-01, -8.88646231e-02, -4.31887459e-02, -1.99029149e-02,\n",
       "       -8.62685053e-03, -3.48163967e-03, -1.29157192e-03, -4.33094950e-04,\n",
       "       -1.28372737e-04, -3.26159230e-05, -6.79736040e-06, -1.08758665e-06,\n",
       "       -1.20125021e-07, -7.59458829e-09, -1.88015048e-10, -6.83231249e-13,\n",
       "        0.00000000e+00,  2.77555756e-17,  6.83231249e-13,  1.88015048e-10,\n",
       "        7.59458829e-09,  1.20125020e-07,  1.08758665e-06,  6.79736040e-06,\n",
       "        3.26159230e-05,  1.28372737e-04,  4.33094950e-04,  1.29157192e-03,\n",
       "        3.48163967e-03,  8.62685053e-03,  1.99029149e-02,  4.31887459e-02,\n",
       "        8.88646231e-02,  1.74521149e-01,  3.28913222e-01,  5.97572818e-01,\n",
       "        1.05058230e+00,  1.79310540e+00,  2.97937479e+00,  4.83094235e+00,\n",
       "        7.66010916e+00,  1.18995665e+01])"
      ]
     },
     "execution_count": 21,
     "metadata": {},
     "output_type": "execute_result"
    }
   ],
   "source": [
    "approx_errors=sin_approx(vec1,5) - np.sin(vec1)\n",
    "approx_errors\n"
   ]
  },
  {
   "attachments": {},
   "cell_type": "markdown",
   "metadata": {},
   "source": [
    "4. Write the Python code to find $N$ that makes the maximum approximation error of your function for $x\\in [-2\\pi, 2\\pi]$ less than 1.0e-10."
   ]
  },
  {
   "cell_type": "code",
   "execution_count": 22,
   "metadata": {},
   "outputs": [],
   "source": [
    "\n",
    "#N은 클수록 에러가 작아진다."
   ]
  },
  {
   "cell_type": "code",
   "execution_count": 23,
   "metadata": {},
   "outputs": [
    {
     "name": "stdout",
     "output_type": "stream",
     "text": [
      "16\n"
     ]
    }
   ],
   "source": [
    "\n",
    "N=1\n",
    "vec1=np.linspace(-2*np.pi, 2*np.pi, 100)\n",
    "while True:\n",
    "    if (sin_approx(vec1,N) - np.sin(vec1)).max() <1.0e-10:\n",
    "        print(N)\n",
    "        break\n",
    "    else:\n",
    "        N+=1\n",
    "\n",
    "\n",
    "        \n",
    "\n",
    "\n"
   ]
  },
  {
   "attachments": {},
   "cell_type": "markdown",
   "metadata": {},
   "source": [
    "## Q3. Geometric and Harmonic Means"
   ]
  },
  {
   "attachments": {},
   "cell_type": "markdown",
   "metadata": {},
   "source": [
    "1. Look up the definitioin of `geometric` and `harmonic` means and write two lambda functions to compute those using their definitions."
   ]
  },
  {
   "cell_type": "code",
   "execution_count": 127,
   "metadata": {},
   "outputs": [],
   "source": [
    "# your code here\n",
    "import math \n",
    "\n",
    "GM = lambda vec :math.exp((1/len(vec))*sum([math.log(i) for i in vec]))\n",
    "\n",
    "#GM = lambda vec : (vec.prod())**(1/len(vec)) << Runningtimewarning이 뜨면서 0의 값만 나온다.\n",
    "\n",
    "\n",
    "HM = lambda vec : len(vec)/sum((1/i) for i in vec)\n",
    "\n"
   ]
  },
  {
   "attachments": {},
   "cell_type": "markdown",
   "metadata": {},
   "source": [
    "2. Generate a 1-d Numpy array $X$ of 100 random integers."
   ]
  },
  {
   "cell_type": "code",
   "execution_count": 128,
   "metadata": {},
   "outputs": [
    {
     "data": {
      "text/plain": [
       "array([192, 459, 401, 147, 260,  72, 154, 179,  17, 291, 467, 426, 264,\n",
       "       440,  27, 462, 223, 220, 150, 494, 204, 446, 377,  91, 257,   3,\n",
       "       260, 218, 433,  54, 290,  18, 386,  43,  81, 276,  23, 478, 389,\n",
       "       277, 325, 343, 423,   2, 166,  98, 264, 302,  57, 326, 456, 177,\n",
       "        35, 113, 389, 427,  48, 470,  17,  18, 156, 407, 477, 450, 425,\n",
       "       435, 115, 462, 121,  51, 483, 118,  91, 282, 246, 467, 375, 369,\n",
       "       213, 159, 159, 320, 189, 359,  77, 211, 424,  30,   5, 411, 287,\n",
       "       145, 376, 210,  25,  12, 165, 156, 237,  75])"
      ]
     },
     "execution_count": 128,
     "metadata": {},
     "output_type": "execute_result"
    }
   ],
   "source": [
    "# your code here\n",
    "X=np.random.randint(1,500,size=100)\n",
    "X\n"
   ]
  },
  {
   "attachments": {},
   "cell_type": "markdown",
   "metadata": {},
   "source": [
    "3. Using the functions that you wrote above, compute the geometric and harmonic means of the array $X$."
   ]
  },
  {
   "cell_type": "code",
   "execution_count": 129,
   "metadata": {},
   "outputs": [
    {
     "data": {
      "text/plain": [
       "160.55010761028362"
      ]
     },
     "execution_count": 129,
     "metadata": {},
     "output_type": "execute_result"
    }
   ],
   "source": [
    "\n",
    "GM(X) \n"
   ]
  },
  {
   "cell_type": "code",
   "execution_count": 130,
   "metadata": {},
   "outputs": [
    {
     "data": {
      "text/plain": [
       "49.88521124362038"
      ]
     },
     "execution_count": 130,
     "metadata": {},
     "output_type": "execute_result"
    }
   ],
   "source": [
    "HM(X)"
   ]
  },
  {
   "attachments": {},
   "cell_type": "markdown",
   "metadata": {},
   "source": [
    "4. There are already functions to compute the geometric and harmonic means in the `statistics` library. Use these functions, compute the geometric and harmonic means again and compare the results with those from your functions."
   ]
  },
  {
   "cell_type": "code",
   "execution_count": 131,
   "metadata": {},
   "outputs": [
    {
     "data": {
      "text/plain": [
       "160.55010761028376"
      ]
     },
     "execution_count": 131,
     "metadata": {},
     "output_type": "execute_result"
    }
   ],
   "source": [
    "import statistics as st\n",
    "\n",
    "st.geometric_mean(X)"
   ]
  },
  {
   "cell_type": "code",
   "execution_count": 132,
   "metadata": {},
   "outputs": [
    {
     "data": {
      "text/plain": [
       "49.88521124362037"
      ]
     },
     "execution_count": 132,
     "metadata": {},
     "output_type": "execute_result"
    }
   ],
   "source": [
    "st.harmonic_mean(X)"
   ]
  },
  {
   "attachments": {},
   "cell_type": "markdown",
   "metadata": {},
   "source": [
    "## Q4. Simulation for Linear Regression\n",
    "\n",
    "Suppose that the true relationship between the dependent variable ($y$) and three explanatory variables ($X_1$, $X_2$ and $X_3$) are given as follows: $$ y_t = 2 + 4 X_{1,t}  + 6 X_{2,t}  + 8 X_{3,t} + \\epsilon_t,$$ where $\\epsilon \\sim N(0, 0.04)$ and  $t = 1, 2, \\cdots, T$. This relationship can be written in matrix form: $\\mathbf{y} = \\mathbf{X}\\beta$, where $\\mathbf{y} = (y_1, y_2, \\cdots, y_T)'$, $\\mathbf{X} = (\\mathbf{1}, \\mathbf{X}_{1}, \\mathbf{X}_{2}, \\mathbf{X}_{3})$ and $\\beta = (2,4,6,8)'$.\n",
    "\n",
    "The economist does not know the true relationship but only has dataset of ($X, y$) and wants to figure out the relationship between $X$ and $y$ based on linear models. The Ordinary Least Squares (OLS) estimates of the coefficients is $$\\hat{\\beta} = (\\mathbf{X'}\\mathbf{X})^{-1}\\mathbf{X'}\\mathbf{y}$$\n"
   ]
  },
  {
   "attachments": {},
   "cell_type": "markdown",
   "metadata": {},
   "source": [
    "1. Create the matrix ($\\mathbf{X}$) of explanatory variables assuing that:\n",
    "  - the first column contains 100 ones.\n",
    "  - the second column contains 100 numbers from $N(2, 5)$\n",
    "  - the third column contains 100 numbers from $N(3, 3)$\n",
    "  - the fourth column contains 100 numbers from $N(5, 2)$\n",
    "\n",
    "  Check whether explanatory variables are created as specified."
   ]
  },
  {
   "cell_type": "code",
   "execution_count": 133,
   "metadata": {},
   "outputs": [
    {
     "data": {
      "text/plain": [
       "array([[  1.        ,   1.00979663,   1.79417588,   7.22203282],\n",
       "       [  1.        ,  12.41890173,  -0.04320025,   2.97224377],\n",
       "       [  1.        ,   2.98330987,   1.81355788,   2.78503747],\n",
       "       [  1.        ,  -0.13153828,   4.96139337,   3.22493647],\n",
       "       [  1.        ,   1.26602338,   4.43428505,   6.17173327],\n",
       "       [  1.        ,   2.47042841,   0.1111917 ,   8.44053561],\n",
       "       [  1.        ,   4.62349297,   3.17336722,   4.19916368],\n",
       "       [  1.        ,  -5.66555057,   2.18728488,   4.5867287 ],\n",
       "       [  1.        ,   3.64297746,   7.36836256,   2.31016261],\n",
       "       [  1.        ,  -4.08360631,   0.38510314,   5.58702544],\n",
       "       [  1.        ,   4.95850966,   0.64538032,   2.56471811],\n",
       "       [  1.        ,   5.21447076,   8.49952704,  10.13050613],\n",
       "       [  1.        ,   2.5015755 ,   5.03367602,   5.39715154],\n",
       "       [  1.        ,   1.03135504,   2.03101736,   5.80759131],\n",
       "       [  1.        ,   0.540415  ,   1.94709218,   6.55659899],\n",
       "       [  1.        ,   6.54910343,   5.24130476,   5.09769343],\n",
       "       [  1.        ,   4.1494567 ,   4.06421538,   7.49236202],\n",
       "       [  1.        ,   9.09155808,   5.72490726,   5.30346909],\n",
       "       [  1.        ,  11.74568462,   2.59125317,   7.958152  ],\n",
       "       [  1.        ,   0.80440281,   4.02529368,   5.68705766],\n",
       "       [  1.        ,  -1.53056489,   7.04614102,   3.89575899],\n",
       "       [  1.        ,   2.22125937,   4.42127672,   4.50574436],\n",
       "       [  1.        ,   0.4137306 ,   2.40402981,   4.86619932],\n",
       "       [  1.        , -10.70285754,   1.70922426,   3.30429402],\n",
       "       [  1.        ,   1.15271276,   5.18716486,   4.62749075],\n",
       "       [  1.        ,   0.10649107,   3.49624632,   7.58939901],\n",
       "       [  1.        ,   3.58241815,   9.50583971,   2.32430037],\n",
       "       [  1.        ,   7.67271658,   1.00215149,   7.98823302],\n",
       "       [  1.        ,   5.83349241,  -1.6600872 ,   4.38554768],\n",
       "       [  1.        ,  -6.63277026,   4.72349209,   8.14025506],\n",
       "       [  1.        ,  -0.67966255,  -0.41794112,   4.41653767],\n",
       "       [  1.        ,  -2.60745021,   1.71546781,   3.91764912],\n",
       "       [  1.        ,  -2.96612194,   4.88883854,   3.12643604],\n",
       "       [  1.        ,  11.43114902,  -4.46024353,   6.15881814],\n",
       "       [  1.        ,  16.64249125,   6.80232922,   4.10348588],\n",
       "       [  1.        ,  -0.95688409,   7.42884254,   1.96608028],\n",
       "       [  1.        ,   6.2088765 ,   5.46410153,   3.15545278],\n",
       "       [  1.        ,   7.26228771,   0.58070382,   4.05302836],\n",
       "       [  1.        ,   6.2279188 ,   0.77803942,   3.81170507],\n",
       "       [  1.        ,  -2.45293274,   2.14658795,   5.44715248],\n",
       "       [  1.        ,   0.26856265,   2.52051081,   5.66504504],\n",
       "       [  1.        ,   3.54300408,   1.27454351,   3.68824502],\n",
       "       [  1.        ,  -0.6211489 ,  11.45858377,   7.21051354],\n",
       "       [  1.        ,  -3.89525535,  -2.89738333,   3.62103164],\n",
       "       [  1.        ,   1.93415207,  -0.46553028,   5.4583172 ],\n",
       "       [  1.        ,   0.02930013,   8.09183994,   3.79938651],\n",
       "       [  1.        ,   1.84442598,   0.95178203,   4.60577286],\n",
       "       [  1.        ,   5.08321011,   0.98189551,   4.13628666],\n",
       "       [  1.        ,   7.2306293 ,   6.21764894,   3.76902717],\n",
       "       [  1.        ,  -4.2037666 ,   3.85970464,   5.52148614],\n",
       "       [  1.        ,  -3.90449185,   7.58091607,   4.71564289],\n",
       "       [  1.        ,  -6.83916471,   3.52931345,   3.2258153 ],\n",
       "       [  1.        ,  -2.63715136,   0.55184307,   0.93847601],\n",
       "       [  1.        ,  -0.68734145,   3.00233449,   8.24958797],\n",
       "       [  1.        ,   2.40325038,   1.44413903,   6.22465016],\n",
       "       [  1.        ,   0.06101882,   2.79538676,   6.01483333],\n",
       "       [  1.        ,  -2.95763619,   2.81962831,   3.82716837],\n",
       "       [  1.        ,   8.25305019,   5.84992291,   3.81854479],\n",
       "       [  1.        ,   5.99353048,   3.88533996,   2.83509274],\n",
       "       [  1.        ,   4.29395632,  10.357792  ,   7.91916727],\n",
       "       [  1.        ,  -4.78043834,   1.49268918,   7.91736023],\n",
       "       [  1.        ,  -0.28462439,   3.60999117,   5.41970608],\n",
       "       [  1.        ,   3.67056526,  -2.53440097,   4.53560447],\n",
       "       [  1.        ,   0.88547389,  -0.27313058,   3.38137291],\n",
       "       [  1.        ,   7.14691115,   0.65474115,   5.1884424 ],\n",
       "       [  1.        ,  -2.22990617,   4.05026602,   5.44703277],\n",
       "       [  1.        ,   3.85073244,   3.17698474,   1.06829087],\n",
       "       [  1.        ,   5.15926716,   8.19473791,   5.21708731],\n",
       "       [  1.        ,   2.4322382 ,   3.40202519,   4.25151096],\n",
       "       [  1.        ,   6.38032597,   4.66123112,   3.43367618],\n",
       "       [  1.        ,   2.66809144,   5.48304513,   3.88402933],\n",
       "       [  1.        ,   3.51429934,   5.55242106,   3.23401021],\n",
       "       [  1.        ,   2.98562846,  -2.93309025,   3.32307692],\n",
       "       [  1.        ,  -5.73703346,   3.30885968,   4.32740611],\n",
       "       [  1.        ,  -2.51119265,   1.22069578,   5.53876732],\n",
       "       [  1.        ,   5.29188414,   7.31387917,   3.16101627],\n",
       "       [  1.        ,  -0.58014068,   4.98801998,   5.48485521],\n",
       "       [  1.        ,   3.93933064,  -1.15094883,   4.28981022],\n",
       "       [  1.        ,  -2.35378228,   6.30183248,   8.27575359],\n",
       "       [  1.        ,   7.45603999,   5.74857893,   4.28851341],\n",
       "       [  1.        ,   0.28222199,   7.99419457,   5.70217802],\n",
       "       [  1.        ,   4.11345293,  -0.17722014,   3.55603322],\n",
       "       [  1.        ,   8.81956533,   5.33405665,   6.37020368],\n",
       "       [  1.        ,   3.931876  ,   1.53789273,   4.85685406],\n",
       "       [  1.        ,   3.29960707,  -0.63341219,   2.46966227],\n",
       "       [  1.        ,  11.3317483 ,   3.12709945,   5.07646586],\n",
       "       [  1.        ,   9.99499909,   7.86446488,   7.36197852],\n",
       "       [  1.        ,  -0.66261342,   3.57517578,   0.63901794],\n",
       "       [  1.        ,  -5.16913871,   4.10773915,   5.31369422],\n",
       "       [  1.        ,   2.30534979,   3.44012575,   4.21042331],\n",
       "       [  1.        ,   3.01459317,   4.03192861,   8.29836447],\n",
       "       [  1.        ,   3.89913114,   2.65395229,   8.01345023],\n",
       "       [  1.        ,   1.14911746,   3.14464174,   4.09840592],\n",
       "       [  1.        ,   7.00269553,  -0.77874569,   2.17135738],\n",
       "       [  1.        ,  -3.99470449,   2.95371323,   5.25463621],\n",
       "       [  1.        ,  -0.58061733,   5.13983853,   6.74877743],\n",
       "       [  1.        ,  -3.50227384,   6.44468131,   1.92941046],\n",
       "       [  1.        ,  -9.00475582,   2.42559356,   6.54882374],\n",
       "       [  1.        ,   3.57343517,   2.14912086,   7.60924811],\n",
       "       [  1.        ,   1.57398839,   1.41203102,   4.42603468]])"
      ]
     },
     "execution_count": 133,
     "metadata": {},
     "output_type": "execute_result"
    }
   ],
   "source": [
    "r_1= np.full((1,100),1)\n",
    "r_2= np.random.normal(2,5, (1,100))\n",
    "r_3= np.random.normal(3,3, (1,100))\n",
    "r_4= np.random.normal(5,2, (1,100))\n",
    "X=np.vstack((r_1,r_2,r_3,r_4)).T\n",
    "\n",
    "X\n",
    "\n"
   ]
  },
  {
   "attachments": {},
   "cell_type": "markdown",
   "metadata": {},
   "source": [
    "  2. Create the vector of dependent variable ($\\mathbf{y}$) using the true relationship above."
   ]
  },
  {
   "cell_type": "code",
   "execution_count": 116,
   "metadata": {},
   "outputs": [
    {
     "data": {
      "text/plain": [
       "array([[118.33629236],\n",
       "       [ 92.95363755],\n",
       "       [ 49.64102273],\n",
       "       [ 52.26155456],\n",
       "       [ 65.00289222],\n",
       "       [ 77.81731011],\n",
       "       [ 53.67932345],\n",
       "       [137.38114511],\n",
       "       [101.7955625 ],\n",
       "       [ 65.13940032],\n",
       "       [ 89.24544303],\n",
       "       [ 74.51430713],\n",
       "       [ 92.43591894],\n",
       "       [ 71.45872651],\n",
       "       [ 79.73889218],\n",
       "       [ 54.45495896],\n",
       "       [ 78.41789466],\n",
       "       [ 48.42562516],\n",
       "       [ 96.83601992],\n",
       "       [ 33.89835119],\n",
       "       [ 91.21488031],\n",
       "       [ 62.28411554],\n",
       "       [ 98.48207215],\n",
       "       [ 84.2731066 ],\n",
       "       [ 96.29470901],\n",
       "       [ 21.10181867],\n",
       "       [ 30.07432989],\n",
       "       [ 90.89232825],\n",
       "       [ 60.21987118],\n",
       "       [ 55.83521168],\n",
       "       [ 38.1187758 ],\n",
       "       [ 86.78889268],\n",
       "       [ 38.96746076],\n",
       "       [103.63517133],\n",
       "       [ 78.63268812],\n",
       "       [ 84.92861484],\n",
       "       [ 90.04963732],\n",
       "       [ 71.77926711],\n",
       "       [ 82.27625986],\n",
       "       [ 71.4304675 ],\n",
       "       [120.67907058],\n",
       "       [ 95.76018426],\n",
       "       [-17.95837399],\n",
       "       [ 95.47420833],\n",
       "       [ 40.67394439],\n",
       "       [107.00727555],\n",
       "       [ 52.96716886],\n",
       "       [ 56.98555045],\n",
       "       [124.66571447],\n",
       "       [ 78.27757622],\n",
       "       [ 79.95995704],\n",
       "       [ 30.62102546],\n",
       "       [ 71.26217349],\n",
       "       [ 71.26412728],\n",
       "       [ 80.98435479],\n",
       "       [ 52.80538105],\n",
       "       [ 65.19442339],\n",
       "       [ 85.29466023],\n",
       "       [108.72898387],\n",
       "       [ 62.02497083],\n",
       "       [ 88.42171697],\n",
       "       [ 75.83720846],\n",
       "       [ 93.88138207],\n",
       "       [ 35.81528802],\n",
       "       [ 73.12108173],\n",
       "       [ 66.33217703],\n",
       "       [ 50.0966687 ],\n",
       "       [129.40968809],\n",
       "       [ 83.97049963],\n",
       "       [ 67.31526854],\n",
       "       [ 43.84943258],\n",
       "       [ 79.2539569 ],\n",
       "       [ 84.75941138],\n",
       "       [ 61.0150561 ],\n",
       "       [ 51.21050859],\n",
       "       [ 54.77476627],\n",
       "       [ 81.01567643],\n",
       "       [ 45.99637146],\n",
       "       [ 30.81541756],\n",
       "       [ 70.48200264],\n",
       "       [ 16.6352327 ],\n",
       "       [109.91859477],\n",
       "       [ 89.93698838],\n",
       "       [102.05164987],\n",
       "       [102.75704064],\n",
       "       [111.19445567],\n",
       "       [114.10693592],\n",
       "       [ 84.88253888],\n",
       "       [ 90.66336285],\n",
       "       [ 59.05739585],\n",
       "       [ 34.20263475],\n",
       "       [ 23.25060622],\n",
       "       [ 46.70172482],\n",
       "       [ 89.25313897],\n",
       "       [118.98021365],\n",
       "       [ 93.49529257],\n",
       "       [ 90.7880286 ],\n",
       "       [ 55.33159611],\n",
       "       [ 44.06053909],\n",
       "       [  7.67360614]])"
      ]
     },
     "execution_count": 116,
     "metadata": {},
     "output_type": "execute_result"
    }
   ],
   "source": [
    "b=np.array([2,4,6,8]).reshape(4,1)\n",
    "y=X@b\n",
    "y\n"
   ]
  },
  {
   "attachments": {},
   "cell_type": "markdown",
   "metadata": {},
   "source": [
    "3. Compute the estimates of coefficients."
   ]
  },
  {
   "cell_type": "code",
   "execution_count": 117,
   "metadata": {},
   "outputs": [
    {
     "data": {
      "text/plain": [
       "array([[2.],\n",
       "       [4.],\n",
       "       [6.],\n",
       "       [8.]])"
      ]
     },
     "execution_count": 117,
     "metadata": {},
     "output_type": "execute_result"
    }
   ],
   "source": [
    "np.linalg.inv(X.T@X) @ X.T @y\n"
   ]
  },
  {
   "attachments": {},
   "cell_type": "markdown",
   "metadata": {},
   "source": [
    "4. From the OLS equation, the estimates of the coefficients, $\\hat{\\beta}$, can be interprested as the solution to a linear equation system. Write the linear equation system and `solve` for it.   "
   ]
  },
  {
   "attachments": {},
   "cell_type": "markdown",
   "metadata": {},
   "source": [
    "$$\\mathbf{X'}\\mathbf{y} = (\\mathbf{X'}\\mathbf{X})\\hat{\\beta}$$"
   ]
  },
  {
   "cell_type": "code",
   "execution_count": 118,
   "metadata": {},
   "outputs": [
    {
     "data": {
      "text/plain": [
       "array([[2.],\n",
       "       [4.],\n",
       "       [6.],\n",
       "       [8.]])"
      ]
     },
     "execution_count": 118,
     "metadata": {},
     "output_type": "execute_result"
    }
   ],
   "source": [
    "#(X.T@X)@b_est = X.T@y << THE linear system \n",
    "b_est=np.linalg.solve(X.T@X, X.T@y)\n",
    "b_est"
   ]
  },
  {
   "attachments": {},
   "cell_type": "markdown",
   "metadata": {},
   "source": [
    "5. Suppose that the economist thinks that the explanaroty variable $X_3$ is not important for the dependent variable. Hence she drop that variable from her estimation equation. Compute the estimates $\\tilde{\\beta}$ with this specification and explain how $\\tilde{\\beta}$ compare with $\\hat{\\beta}$."
   ]
  },
  {
   "cell_type": "code",
   "execution_count": 135,
   "metadata": {},
   "outputs": [
    {
     "data": {
      "text/plain": [
       "array([[2.],\n",
       "       [4.],\n",
       "       [6.]])"
      ]
     },
     "execution_count": 135,
     "metadata": {},
     "output_type": "execute_result"
    }
   ],
   "source": [
    "r_1= np.full((1,100),1)\n",
    "r_2= np.random.normal(2,5, (1,100))\n",
    "r_3= np.random.normal(3,3, (1,100))\n",
    "\n",
    "X_2=np.vstack((r_1,r_2,r_3)).T\n",
    "\n",
    "b_2=np.array([2,4,6]).reshape(3,1)\n",
    "y_2=X_2@b_2\n",
    "\n",
    "b_est_2=np.linalg.solve(X_2.T@X_2, X_2.T@y_2)\n",
    "b_est_2\n",
    "\n",
    "#X_3의 계수에 해당하는 원소가 빠진 것을 제외하고는 동일하다.\n",
    "\n"
   ]
  },
  {
   "attachments": {},
   "cell_type": "markdown",
   "metadata": {},
   "source": [
    "6. The economist is not interested in the constant term. Hence she converted her estimation model to the form of deviations from means:  $$y - \\bar{y} = \\left(\\mathbf{X}-\\mathbf{\\bar{X}} \\right) \\gamma,$$ where $\\bar{\\mathbf{y}}$ and $\\bar{\\mathbf{X}}$ are the means of $\\mathbf{y}$ and $\\mathbf{X}$ respectively. Write down the OLS estimates for $\\gamma$, compute $\\hat{\\gamma}$ and compare $\\hat{\\gamma}$ and $\\hat{\\beta}$."
   ]
  },
  {
   "cell_type": "code",
   "execution_count": 120,
   "metadata": {},
   "outputs": [
    {
     "data": {
      "text/plain": [
       "array([[4.],\n",
       "       [6.],\n",
       "       [8.]])"
      ]
     },
     "execution_count": 120,
     "metadata": {},
     "output_type": "execute_result"
    }
   ],
   "source": [
    "y_mean=y.mean()\n",
    "X_mean=X.mean(axis=0)\n",
    "A=X-X_mean\n",
    "b=y-y_mean\n",
    "#상수항에 관심이 없으므로 & 역행렬 계산을 위하여, 상수항을 버린다.\n",
    "A=np.delete (A, 0, axis=1)\n",
    "r_est = np.linalg.solve(A.T@A , A.T@b)\n",
    "r_est\n"
   ]
  },
  {
   "cell_type": "code",
   "execution_count": 121,
   "metadata": {},
   "outputs": [
    {
     "name": "stdout",
     "output_type": "stream",
     "text": [
      "[[4.]\n",
      " [6.]\n",
      " [8.]]\n",
      "[[2.]\n",
      " [4.]\n",
      " [6.]\n",
      " [8.]]\n"
     ]
    }
   ],
   "source": [
    "print(r_est)\n",
    "print(b_est)\n",
    "# 상수항이 제외된 것 외엔 동일한 결과값이 나온다."
   ]
  },
  {
   "cell_type": "code",
   "execution_count": null,
   "metadata": {},
   "outputs": [],
   "source": []
  }
 ],
 "metadata": {
  "kernelspec": {
   "display_name": "base",
   "language": "python",
   "name": "python3"
  },
  "language_info": {
   "codemirror_mode": {
    "name": "ipython",
    "version": 3
   },
   "file_extension": ".py",
   "mimetype": "text/x-python",
   "name": "python",
   "nbconvert_exporter": "python",
   "pygments_lexer": "ipython3",
   "version": "3.11.2"
  },
  "orig_nbformat": 4
 },
 "nbformat": 4,
 "nbformat_minor": 2
}
